{
 "cells": [
  {
   "cell_type": "code",
   "execution_count": 1,
   "metadata": {
    "colab": {
     "base_uri": "https://localhost:8080/"
    },
    "id": "V58rxea0HqSa",
    "outputId": "4095d73e-4fbf-4a5b-a415-3ad6b3bd606c"
   },
   "outputs": [
    {
     "name": "stdout",
     "output_type": "stream",
     "text": [
      "Get:1 http://security.ubuntu.com/ubuntu bionic-security InRelease [88.7 kB]\n",
      "Get:2 https://cloud.r-project.org/bin/linux/ubuntu bionic-cran40/ InRelease [3,626 B]\n",
      "Ign:3 https://developer.download.nvidia.com/compute/cuda/repos/ubuntu1804/x86_64  InRelease\n",
      "Get:4 http://ppa.launchpad.net/c2d4u.team/c2d4u4.0+/ubuntu bionic InRelease [15.9 kB]\n",
      "Ign:5 https://developer.download.nvidia.com/compute/machine-learning/repos/ubuntu1804/x86_64  InRelease\n",
      "Hit:6 http://archive.ubuntu.com/ubuntu bionic InRelease\n",
      "Get:7 https://developer.download.nvidia.com/compute/cuda/repos/ubuntu1804/x86_64  Release [696 B]\n",
      "Hit:8 https://developer.download.nvidia.com/compute/machine-learning/repos/ubuntu1804/x86_64  Release\n",
      "Get:9 https://developer.download.nvidia.com/compute/cuda/repos/ubuntu1804/x86_64  Release.gpg [836 B]\n",
      "Get:10 http://archive.ubuntu.com/ubuntu bionic-updates InRelease [88.7 kB]\n",
      "Hit:11 http://ppa.launchpad.net/cran/libgit2/ubuntu bionic InRelease\n",
      "Get:12 http://archive.ubuntu.com/ubuntu bionic-backports InRelease [74.6 kB]\n",
      "Get:13 http://ppa.launchpad.net/deadsnakes/ppa/ubuntu bionic InRelease [15.9 kB]\n",
      "Get:14 https://cloud.r-project.org/bin/linux/ubuntu bionic-cran40/ Packages [73.9 kB]\n",
      "Hit:15 http://ppa.launchpad.net/graphics-drivers/ppa/ubuntu bionic InRelease\n",
      "Get:16 http://security.ubuntu.com/ubuntu bionic-security/restricted amd64 Packages [691 kB]\n",
      "Get:17 http://security.ubuntu.com/ubuntu bionic-security/main amd64 Packages [2,461 kB]\n",
      "Get:18 http://security.ubuntu.com/ubuntu bionic-security/universe amd64 Packages [1,452 kB]\n",
      "Get:20 https://developer.download.nvidia.com/compute/cuda/repos/ubuntu1804/x86_64  Packages [833 kB]\n",
      "Get:21 http://ppa.launchpad.net/c2d4u.team/c2d4u4.0+/ubuntu bionic/main Sources [1,821 kB]\n",
      "Get:22 http://ppa.launchpad.net/c2d4u.team/c2d4u4.0+/ubuntu bionic/main amd64 Packages [934 kB]\n",
      "Get:23 http://archive.ubuntu.com/ubuntu bionic-updates/main amd64 Packages [2,898 kB]\n",
      "Get:24 http://archive.ubuntu.com/ubuntu bionic-updates/universe amd64 Packages [2,230 kB]\n",
      "Get:25 http://archive.ubuntu.com/ubuntu bionic-backports/main amd64 Packages [11.6 kB]\n",
      "Get:26 http://archive.ubuntu.com/ubuntu bionic-backports/universe amd64 Packages [12.6 kB]\n",
      "Get:27 http://ppa.launchpad.net/deadsnakes/ppa/ubuntu bionic/main amd64 Packages [45.3 kB]\n",
      "Fetched 13.8 MB in 6s (2,176 kB/s)\n",
      "Reading package lists... Done\n"
     ]
    }
   ],
   "source": [
    "import os\n",
    "# Find the latest version of spark 3.0 from http://www.apache.org/dist/spark/ and enter as the spark version\n",
    "# For example:\n",
    "# spark_version = 'spark-3.0.3'\n",
    "spark_version = 'spark-3.0.3'\n",
    "os.environ['SPARK_VERSION']=spark_version\n",
    "\n",
    "# Install Spark and Java\n",
    "!apt-get update\n",
    "!apt-get install openjdk-11-jdk-headless -qq > /dev/null\n",
    "!wget -q http://www.apache.org/dist/spark/$SPARK_VERSION/$SPARK_VERSION-bin-hadoop2.7.tgz\n",
    "!tar xf $SPARK_VERSION-bin-hadoop2.7.tgz\n",
    "!pip install -q findspark\n",
    "\n",
    "# Set Environment Variables\n",
    "import os\n",
    "os.environ[\"JAVA_HOME\"] = \"/usr/lib/jvm/java-11-openjdk-amd64\"\n",
    "os.environ[\"SPARK_HOME\"] = f\"/content/{spark_version}-bin-hadoop2.7\"\n",
    "\n",
    "# Start a SparkSession\n",
    "import findspark\n",
    "findspark.init()"
   ]
  },
  {
   "cell_type": "markdown",
   "metadata": {
    "id": "rWZIec7x8NK9"
   },
   "source": [
    "## **Deliverable#1**"
   ]
  },
  {
   "cell_type": "code",
   "execution_count": 2,
   "metadata": {
    "colab": {
     "base_uri": "https://localhost:8080/"
    },
    "id": "_xKwTpATHqSe",
    "outputId": "8eafd5d9-34ea-4899-91df-fef8cbe13cc6"
   },
   "outputs": [
    {
     "name": "stdout",
     "output_type": "stream",
     "text": [
      "--2021-12-26 17:09:41--  https://jdbc.postgresql.org/download/postgresql-42.2.16.jar\n",
      "Resolving jdbc.postgresql.org (jdbc.postgresql.org)... 72.32.157.228, 2001:4800:3e1:1::228\n",
      "Connecting to jdbc.postgresql.org (jdbc.postgresql.org)|72.32.157.228|:443... connected.\n",
      "HTTP request sent, awaiting response... 200 OK\n",
      "Length: 1002883 (979K) [application/java-archive]\n",
      "Saving to: ‘postgresql-42.2.16.jar’\n",
      "\n",
      "postgresql-42.2.16. 100%[===================>] 979.38K  --.-KB/s    in 0.1s    \n",
      "\n",
      "2021-12-26 17:09:42 (6.53 MB/s) - ‘postgresql-42.2.16.jar’ saved [1002883/1002883]\n",
      "\n"
     ]
    }
   ],
   "source": [
    "# Download the Postgres driver that will allow Spark to interact with Postgres.\n",
    "!wget https://jdbc.postgresql.org/download/postgresql-42.2.16.jar"
   ]
  },
  {
   "cell_type": "code",
   "execution_count": 10,
   "metadata": {
    "id": "MMqDAjVS0KN9"
   },
   "outputs": [],
   "source": [
    "from pyspark.sql import SparkSession\n",
    "spark = SparkSession.builder.appName(\"M16-Amazon-Challenge\").config(\"spark.driver.extraClassPath\",\"/content/postgresql-42.2.16.jar\").getOrCreate()"
   ]
  },
  {
   "cell_type": "markdown",
   "metadata": {
    "id": "cyBsySGuY-9V"
   },
   "source": [
    "### Load Amazon Data into Spark DataFrame"
   ]
  },
  {
   "cell_type": "code",
   "execution_count": 35,
   "metadata": {
    "colab": {
     "base_uri": "https://localhost:8080/"
    },
    "id": "CtCmBhQJY-9Z",
    "outputId": "cab4f0f7-d552-460f-b44d-3e7614ec6d5e"
   },
   "outputs": [
    {
     "name": "stdout",
     "output_type": "stream",
     "text": [
      "+---------------------------------------------------------------------------------------------------------+\n",
      "|SAMPLE CONTENT:                                                                                          |\n",
      "+---------------------------------------------------------------------------------------------------------+\n",
      "|https://s3.amazonaws.com/amazon-reviews-pds/tsv/sample_us.tsv                                            |\n",
      "|https://s3.amazonaws.com/amazon-reviews-pds/tsv/sample_fr.tsv                                            |\n",
      "|DATA COLUMNS:                                                                                            |\n",
      "|marketplace       - 2 letter country code of the marketplace where the review was written.               |\n",
      "|customer_id       - Random identifier that can be used to aggregate reviews written by a single author.  |\n",
      "|review_id         - The unique ID of the review.                                                         |\n",
      "|product_id        - The unique Product ID the review pertains to. In the multilingual dataset the reviews|\n",
      "|                    for the same product in different countries can be grouped by the same product_id.   |\n",
      "|product_parent    - Random identifier that can be used to aggregate reviews for the same product.        |\n",
      "|product_title     - Title of the product.                                                                |\n",
      "|product_category  - Broad product category that can be used to group reviews                             |\n",
      "|                    (also used to group the dataset into coherent parts).                                |\n",
      "|star_rating       - The 1-5 star rating of the review.                                                   |\n",
      "|helpful_votes     - Number of helpful votes.                                                             |\n",
      "|total_votes       - Number of total votes the review received.                                           |\n",
      "|vine              - Review was written as part of the Vine program.                                      |\n",
      "|verified_purchase - The review is on a verified purchase.                                                |\n",
      "|review_headline   - The title of the review.                                                             |\n",
      "|review_body       - The review text.                                                                     |\n",
      "|review_date       - The date the review was written.                                                     |\n",
      "+---------------------------------------------------------------------------------------------------------+\n",
      "only showing top 20 rows\n",
      "\n"
     ]
    }
   ],
   "source": [
    "from pyspark import SparkFiles\n",
    "url = \"https://s3.amazonaws.com/amazon-reviews-pds/tsv/index.txt\"\n",
    "spark.sparkContext.addFile(url)\n",
    "df = spark.read.option(\"encoding\", \"UTF-8\").csv(SparkFiles.get(\"index.txt\"), sep=\"\\t\", header=True, inferSchema=True)\n",
    "df.show(truncate=False)"
   ]
  },
  {
   "cell_type": "code",
   "execution_count": 36,
   "metadata": {
    "colab": {
     "base_uri": "https://localhost:8080/"
    },
    "id": "aClKlV7X1TYI",
    "outputId": "5c507b82-85ca-4a96-91f7-792d4edbb985"
   },
   "outputs": [
    {
     "name": "stdout",
     "output_type": "stream",
     "text": [
      "+-----------+-----------+--------------+----------+--------------+----------------------------------------------------------------------------------------+----------------+-----------+-------------+-----------+----+-----------------+-----------------------------------------------------------------------------------------------+-----------------------------------------------------------------------------------------------------------------------------------------------------------------------------------------------------------------------------------------------------------------------------------------------------------------------------------------------------------------------------------------------------------------------------------------------------------------------------------------------------------------------------------------------------------------------------------------------------------------------------------------------------------------+-----------+\n",
      "|marketplace|customer_id|review_id     |product_id|product_parent|product_title                                                                           |product_category|star_rating|helpful_votes|total_votes|vine|verified_purchase|review_headline                                                                                |review_body                                                                                                                                                                                                                                                                                                                                                                                                                                                                                                                                                                                                                                                      |review_date|\n",
      "+-----------+-----------+--------------+----------+--------------+----------------------------------------------------------------------------------------+----------------+-----------+-------------+-----------+----+-----------------+-----------------------------------------------------------------------------------------------+-----------------------------------------------------------------------------------------------------------------------------------------------------------------------------------------------------------------------------------------------------------------------------------------------------------------------------------------------------------------------------------------------------------------------------------------------------------------------------------------------------------------------------------------------------------------------------------------------------------------------------------------------------------------+-----------+\n",
      "|US         |18778586   |RDIJS7QYB6XNR |B00EDBY7X8|122952789     |Monopoly Junior Board Game                                                              |Toys            |5          |0            |0          |N   |Y                |Five Stars                                                                                     |Excellent!!!                                                                                                                                                                                                                                                                                                                                                                                                                                                                                                                                                                                                                                                     |2015-08-31 |\n",
      "|US         |24769659   |R36ED1U38IELG8|B00D7JFOPC|952062646     |56 Pieces of Wooden Train Track Compatible with All Major Train Brands                  |Toys            |5          |0            |0          |N   |Y                |Good quality track at excellent price                                                          |Great quality wooden track (better than some others we have tried). Perfect match to the various vintages of Thomas track that we already have. There is enough track here to have fun and get creative incorporating your key pieces with track splits, loops and bends.                                                                                                                                                                                                                                                                                                                                                                                        |2015-08-31 |\n",
      "|US         |44331596   |R1UE3RPRGCOLD |B002LHA74O|818126353     |Super Jumbo Playing Cards by S&S Worldwide                                              |Toys            |2          |1            |1          |N   |Y                |Two Stars                                                                                      |Cards are not as big as pictured.                                                                                                                                                                                                                                                                                                                                                                                                                                                                                                                                                                                                                                |2015-08-31 |\n",
      "|US         |23310293   |R298788GS6I901|B00ARPLCGY|261944918     |Barbie Doll and Fashions Barbie Gift Set                                                |Toys            |5          |0            |0          |N   |Y                |my daughter loved it and i liked the price and it came ...                                     |my daughter loved it and i liked the price and it came to me rather than shopping with a ton of people around me. Amazon is the Best way to shop!                                                                                                                                                                                                                                                                                                                                                                                                                                                                                                                |2015-08-31 |\n",
      "|US         |38745832   |RNX4EXOBBPN5  |B00UZOPOFW|717410439     |Emazing Lights eLite Flow Glow Sticks - Spinning Light LED Toy                          |Toys            |1          |1            |1          |N   |Y                |DONT BUY THESE!                                                                                |Do not buy these! They break very fast I spun then for 15 minutes and the end flew off don't waste your money. They are made from cheap plastic and have cracks in them. Buy the poi balls they work a lot better if you only have limited funds.                                                                                                                                                                                                                                                                                                                                                                                                                |2015-08-31 |\n",
      "|US         |13394189   |R3BPETL222LMIM|B009B7F6CA|873028700     |Melissa & Doug Water Wow Coloring Book - Vehicles                                       |Toys            |5          |0            |0          |N   |Y                |Five Stars                                                                                     |Great item. Pictures pop thru and add detail as &#34;painted.&#34;  Pictures dry and it can be repainted.                                                                                                                                                                                                                                                                                                                                                                                                                                                                                                                                                        |2015-08-31 |\n",
      "|US         |2749569    |R3SORMPJZO3F2J|B0101EHRSM|723424342     |Big Bang Cosmic Pegasus (Pegasis) Metal 4D High Performance Generic Battling Top BB-105 |Toys            |3          |2            |2          |N   |Y                |Three Stars                                                                                    |To keep together, had to use crazy  glue.                                                                                                                                                                                                                                                                                                                                                                                                                                                                                                                                                                                                                        |2015-08-31 |\n",
      "|US         |41137196   |R2RDOJQ0WBZCF6|B00407S11Y|383363775     |Fun Express Insect Finger Puppets 12ct Toy                                              |Toys            |5          |0            |0          |N   |Y                |Five Stars                                                                                     |I was pleased with the product.                                                                                                                                                                                                                                                                                                                                                                                                                                                                                                                                                                                                                                  |2015-08-31 |\n",
      "|US         |433677     |R2B8VBEPB4YEZ7|B00FGPU7U2|780517568     |Fisher-Price Octonauts Shellington's On-The-Go Pod Toy                                  |Toys            |5          |0            |0          |N   |Y                |Five Stars                                                                                     |Children like it                                                                                                                                                                                                                                                                                                                                                                                                                                                                                                                                                                                                                                                 |2015-08-31 |\n",
      "|US         |1297934    |R1CB783I7B0U52|B0013OY0S0|269360126     |Claw Climber Goliath/ Disney's Gargoyles                                                |Toys            |1          |0            |1          |N   |Y                |Shame on the seller !!!                                                                        |Showed up not how it's shown . Was someone's old toy. with paint on it.                                                                                                                                                                                                                                                                                                                                                                                                                                                                                                                                                                                          |2015-08-31 |\n",
      "|US         |52006292   |R2D90RQQ3V8LH |B00519PJTW|493486387     |100 Foot Multicolor Pennant Banner                                                      |Toys            |5          |0            |0          |N   |Y                |Five Stars                                                                                     |Really liked these. They were a little larger than I thought, but still fun.                                                                                                                                                                                                                                                                                                                                                                                                                                                                                                                                                                                     |2015-08-31 |\n",
      "|US         |32071052   |R1Y4ZOUGFMJ327|B001TCY2DO|459122467     |Pig Jumbo Foil Balloon                                                                  |Toys            |5          |0            |0          |N   |Y                |Nice huge balloon                                                                              |Nice huge balloon! Had my local grocery store fill it up for a very small fee, it was totally worth it!                                                                                                                                                                                                                                                                                                                                                                                                                                                                                                                                                          |2015-08-31 |\n",
      "|US         |7360347    |R2BUV9QJI2A00X|B00DOQCWF8|226984155     |Minecraft Animal Toy (6-Pack)                                                           |Toys            |5          |0            |1          |N   |Y                |Five Stars                                                                                     |Great deal                                                                                                                                                                                                                                                                                                                                                                                                                                                                                                                                                                                                                                                       |2015-08-31 |\n",
      "|US         |11613707   |RSUHRJFJIRB3Z |B004C04I4I|375659886     |Disney Baby: Eeyore Large Plush                                                         |Toys            |4          |0            |0          |N   |Y                |Four Stars                                                                                     |As Advertised                                                                                                                                                                                                                                                                                                                                                                                                                                                                                                                                                                                                                                                    |2015-08-31 |\n",
      "|US         |13545982   |R1T96CG98BBA15|B00NWGEKBY|933734136     |Team Losi 8IGHT-E RTR AVC Electric 4WD Buggy Vehicle (1/8 Scale)                        |Toys            |3          |2            |4          |N   |Y                |... servo so expect to spend 150 more on a good servo immediately be the stock one breaks right|Comes w a 15$ servo so expect to spend 150 more on a good servo immediately be the stock one breaks right away                                                                                                                                                                                                                                                                                                                                                                                                                                                                                                                                                   |2015-08-31 |\n",
      "|US         |43880421   |R2ATXF4QQ30YW |B00000JS5S|341842639     |Hot Wheels 48- Car storage Case With Easy Grip Carrying Case                            |Toys            |5          |0            |0          |N   |Y                |Five Stars                                                                                     |awesome ! Thanks!                                                                                                                                                                                                                                                                                                                                                                                                                                                                                                                                                                                                                                                |2015-08-31 |\n",
      "|US         |1662075    |R1YS3DS218NNMD|B00XPWXYDK|210135375     |ZuZo 2.4GHz 4 CH 6 Axis Gyro RC Quadcopter Drone with Camera & LED Lights, 38 x 38 x 7cm|Toys            |5          |4            |4          |N   |N                |The closest relevance I have to items like these is while in the army I was trained ...        |I got this item for me and my son to play around with. The closest relevance I have to items like these is while in the army I was trained in the camera rc bots. This thing is awesome we tested the range and got somewhere close to 50 yards without an issue. Getting the controls is a bit tricky at first but after about twenty minutes you get the feel for it. The drone comes just about fly ready you just have to sync the controller. I am definitely a fan of the drones now. Only concern I have is maybe a little more silent but other than that great buy.<br /><br />*Disclaimer I received this product at a discount for my unbiased review.|2015-08-31 |\n",
      "|US         |18461411   |R2SDXLTLF92O0H|B00VPXX92W|705054378     |Teenage Mutant Ninja Turtles T-Machines Tiger Claw in Safari Truck Diecast Vehicle      |Toys            |5          |0            |0          |N   |Y                |Five Stars                                                                                     |It was a birthday present for my grandson and he LOVES IT!!                                                                                                                                                                                                                                                                                                                                                                                                                                                                                                                                                                                                      |2015-08-31 |\n",
      "|US         |27225859   |R4R337CCDWLNG |B00YRA3H4U|223420727     |Franklin Sports MLB Fold Away Batting Tee                                               |Toys            |3          |0            |1          |Y   |N                |Got wrong product in the shipment                                                              |Got a wrong product from Amazon Vine and unable to provide a good review. We received a pair of cute girls gloves and a baseball ball instead, while we were expecting a boys batting tee. The gloves are cute, however made for at least 6+ yrs or above...more likely 8-9 yrs old girls.<br /><br />Can't provide a fair review as we were not able to use the product.                                                                                                                                                                                                                                                                                        |2015-08-31 |\n",
      "|US         |20494593   |R32Z6UA4S5Q630|B009T8BSQY|787701676     |Alien Frontiers: Factions                                                               |Toys            |1          |0            |0          |N   |Y                |Overpriced.                                                                                    |You need expansion packs 3-5 if you want access to the player aids for the Factions expansion. The base game of Alien Frontiers just plays so much smoother than adding Factions with the expansion packs. All this will do is pigeonhole you into a certain path to victory.                                                                                                                                                                                                                                                                                                                                                                                    |2015-08-31 |\n",
      "+-----------+-----------+--------------+----------+--------------+----------------------------------------------------------------------------------------+----------------+-----------+-------------+-----------+----+-----------------+-----------------------------------------------------------------------------------------------+-----------------------------------------------------------------------------------------------------------------------------------------------------------------------------------------------------------------------------------------------------------------------------------------------------------------------------------------------------------------------------------------------------------------------------------------------------------------------------------------------------------------------------------------------------------------------------------------------------------------------------------------------------------------+-----------+\n",
      "only showing top 20 rows\n",
      "\n"
     ]
    }
   ],
   "source": [
    "from pyspark import SparkFiles\n",
    "url = \"https://s3.amazonaws.com/amazon-reviews-pds/tsv/sample_us.tsv\"\n",
    "spark.sparkContext.addFile(url)\n",
    "df = spark.read.option(\"encoding\", \"UTF-8\").csv(SparkFiles.get(\"sample_us.tsv\"), sep=\"\\t\", header=True, inferSchema=True)\n",
    "df.show(truncate=False)"
   ]
  },
  {
   "cell_type": "markdown",
   "metadata": {
    "id": "2yUSe55VY-9t"
   },
   "source": [
    "### Create DataFrames to match tables"
   ]
  },
  {
   "cell_type": "code",
   "execution_count": 12,
   "metadata": {
    "id": "C8REmY1aY-9u"
   },
   "outputs": [],
   "source": [
    "from pyspark.sql.functions import to_date\n",
    "# Read in the Review dataset as a DataFrame\n"
   ]
  },
  {
   "cell_type": "code",
   "execution_count": 13,
   "metadata": {
    "colab": {
     "base_uri": "https://localhost:8080/"
    },
    "id": "B0TESUDRY-90",
    "outputId": "6646d97a-7efb-481f-b81b-7d5b6f2e072e"
   },
   "outputs": [
    {
     "name": "stdout",
     "output_type": "stream",
     "text": [
      "+-----------+--------------+\n",
      "|customer_id|customer_count|\n",
      "+-----------+--------------+\n",
      "|   18461411|             1|\n",
      "|   44331596|             1|\n",
      "|   20962528|             1|\n",
      "|   34874898|             1|\n",
      "|    6762003|             1|\n",
      "|    1297934|             1|\n",
      "|   13328687|             1|\n",
      "|    2749569|             1|\n",
      "|   12612039|             1|\n",
      "|   11613707|             1|\n",
      "|    5543658|             1|\n",
      "|    7360347|             1|\n",
      "|   45601416|             1|\n",
      "|   27225859|             1|\n",
      "|   32910511|             1|\n",
      "|   47546726|             1|\n",
      "|   13545982|             1|\n",
      "|   12191231|             1|\n",
      "|     433677|             1|\n",
      "|   13394189|             1|\n",
      "+-----------+--------------+\n",
      "only showing top 20 rows\n",
      "\n"
     ]
    }
   ],
   "source": [
    "# Create the customers_table DataFrame\n",
    "customers_df = df.groupby(\"customer_id\").agg({\"customer_id\":\"count\"}).withColumnRenamed(\"count(customer_id)\", \"customer_count\")\n",
    "customers_df.show()"
   ]
  },
  {
   "cell_type": "code",
   "execution_count": 14,
   "metadata": {
    "colab": {
     "base_uri": "https://localhost:8080/"
    },
    "id": "4FwXA6UvY-96",
    "outputId": "a34f9fe7-1d1d-40e8-d810-cd7e82ad4b08"
   },
   "outputs": [
    {
     "name": "stdout",
     "output_type": "stream",
     "text": [
      "+----------+---------------------------------------------------------------------------------------+\n",
      "|product_id|product_title                                                                          |\n",
      "+----------+---------------------------------------------------------------------------------------+\n",
      "|B00CAEEDC0|Seat Pets Car Seat Toy                                                                 |\n",
      "|B00V5DM3RE|Yoga Joes - Green Army Men Toys                                                        |\n",
      "|B008W1BPWQ|Peppa Pig 7 Wood Puzzles In Wooden Storage Box (styles will vary)                      |\n",
      "|1591749352|Klutz Sticker Design Studio: Create Your Own Custom Stickers Craft Kit                 |\n",
      "|B002LHA74O|Super Jumbo Playing Cards by S&S Worldwide                                             |\n",
      "|B00UZOPOFW|Emazing Lights eLite Flow Glow Sticks - Spinning Light LED Toy                         |\n",
      "|B004C04I4I|Disney Baby: Eeyore Large Plush                                                        |\n",
      "|B00JLKI69W|WOW Toys Town Advent Calendar                                                          |\n",
      "|B00GNDY40U|Pokemon - Gyarados (31/113) - Legendary Treasures                                      |\n",
      "|B00WJ1OPMW|LeapFrog LeapTV Letter Factory Adventures Educational, Active Video Game               |\n",
      "|B00JVY9J1M|Winston Zeddmore & Ecto-1: Funko POP! Rides x Ghostbusters Vinyl Figure                |\n",
      "|B0013OY0S0|Claw Climber Goliath/ Disney's Gargoyles                                               |\n",
      "|B00NWGEKBY|Team Losi 8IGHT-E RTR AVC Electric 4WD Buggy Vehicle (1/8 Scale)                       |\n",
      "|B004S8F7QM|Cards Against Humanity                                                                 |\n",
      "|B00FGPU7U2|Fisher-Price Octonauts Shellington's On-The-Go Pod Toy                                 |\n",
      "|B009T8BSQY|Alien Frontiers: Factions                                                              |\n",
      "|B00519PJTW|100 Foot Multicolor Pennant Banner                                                     |\n",
      "|B000PEOMC8|Intex River Run I Sport Lounge, Inflatable Water Float, 53 in Diameter                 |\n",
      "|B00WAKEQLW|Whiffer Sniffers Mystery Pack 1 Scented Backpack Clip                                  |\n",
      "|B0101EHRSM|Big Bang Cosmic Pegasus (Pegasis) Metal 4D High Performance Generic Battling Top BB-105|\n",
      "+----------+---------------------------------------------------------------------------------------+\n",
      "only showing top 20 rows\n",
      "\n"
     ]
    }
   ],
   "source": [
    "# Create the products_table DataFrame and drop duplicates. \n",
    "products_df = df.select([\"product_id\",\"product_title\"]).drop_duplicates()\n",
    "products_df.show(truncate=False)"
   ]
  },
  {
   "cell_type": "code",
   "execution_count": 15,
   "metadata": {
    "colab": {
     "base_uri": "https://localhost:8080/"
    },
    "id": "MkqyCuNQY-9-",
    "outputId": "217e4c3b-6751-4122-a396-1630db49ced3"
   },
   "outputs": [
    {
     "name": "stdout",
     "output_type": "stream",
     "text": [
      "+--------------+-----------+----------+--------------+-----------+\n",
      "|review_id     |customer_id|product_id|product_parent|review_date|\n",
      "+--------------+-----------+----------+--------------+-----------+\n",
      "|RDIJS7QYB6XNR |18778586   |B00EDBY7X8|122952789     |2015-08-31 |\n",
      "|R36ED1U38IELG8|24769659   |B00D7JFOPC|952062646     |2015-08-31 |\n",
      "|R1UE3RPRGCOLD |44331596   |B002LHA74O|818126353     |2015-08-31 |\n",
      "|R298788GS6I901|23310293   |B00ARPLCGY|261944918     |2015-08-31 |\n",
      "|RNX4EXOBBPN5  |38745832   |B00UZOPOFW|717410439     |2015-08-31 |\n",
      "|R3BPETL222LMIM|13394189   |B009B7F6CA|873028700     |2015-08-31 |\n",
      "|R3SORMPJZO3F2J|2749569    |B0101EHRSM|723424342     |2015-08-31 |\n",
      "|R2RDOJQ0WBZCF6|41137196   |B00407S11Y|383363775     |2015-08-31 |\n",
      "|R2B8VBEPB4YEZ7|433677     |B00FGPU7U2|780517568     |2015-08-31 |\n",
      "|R1CB783I7B0U52|1297934    |B0013OY0S0|269360126     |2015-08-31 |\n",
      "|R2D90RQQ3V8LH |52006292   |B00519PJTW|493486387     |2015-08-31 |\n",
      "|R1Y4ZOUGFMJ327|32071052   |B001TCY2DO|459122467     |2015-08-31 |\n",
      "|R2BUV9QJI2A00X|7360347    |B00DOQCWF8|226984155     |2015-08-31 |\n",
      "|RSUHRJFJIRB3Z |11613707   |B004C04I4I|375659886     |2015-08-31 |\n",
      "|R1T96CG98BBA15|13545982   |B00NWGEKBY|933734136     |2015-08-31 |\n",
      "|R2ATXF4QQ30YW |43880421   |B00000JS5S|341842639     |2015-08-31 |\n",
      "|R1YS3DS218NNMD|1662075    |B00XPWXYDK|210135375     |2015-08-31 |\n",
      "|R2SDXLTLF92O0H|18461411   |B00VPXX92W|705054378     |2015-08-31 |\n",
      "|R4R337CCDWLNG |27225859   |B00YRA3H4U|223420727     |2015-08-31 |\n",
      "|R32Z6UA4S5Q630|20494593   |B009T8BSQY|787701676     |2015-08-31 |\n",
      "+--------------+-----------+----------+--------------+-----------+\n",
      "only showing top 20 rows\n",
      "\n"
     ]
    }
   ],
   "source": [
    "# Create the review_id_table DataFrame. \n",
    "# Convert the 'review_date' column to a date datatype with to_date(\"review_date\", 'yyyy-MM-dd').alias(\"review_date\")\n",
    "review_id_df = df.select([\"review_id\",\"customer_id\",\"product_id\",\"product_parent\", to_date(\"review_date\", 'yyyy-MM-dd').alias(\"review_date\")])\n",
    "review_id_df.show(truncate=False)"
   ]
  },
  {
   "cell_type": "code",
   "execution_count": 22,
   "metadata": {
    "colab": {
     "base_uri": "https://localhost:8080/"
    },
    "id": "lzMmkdKmY--D",
    "outputId": "b2bcf0c6-1d35-41ea-bd50-b85e7d8a4c51"
   },
   "outputs": [
    {
     "name": "stdout",
     "output_type": "stream",
     "text": [
      "+--------------+-----------+-------------+-----------+----+-----------------+\n",
      "|review_id     |star_rating|helpful_votes|total_votes|vine|verified_purchase|\n",
      "+--------------+-----------+-------------+-----------+----+-----------------+\n",
      "|RDIJS7QYB6XNR |5          |0            |0          |N   |Y                |\n",
      "|R36ED1U38IELG8|5          |0            |0          |N   |Y                |\n",
      "|R1UE3RPRGCOLD |2          |1            |1          |N   |Y                |\n",
      "|R298788GS6I901|5          |0            |0          |N   |Y                |\n",
      "|RNX4EXOBBPN5  |1          |1            |1          |N   |Y                |\n",
      "|R3BPETL222LMIM|5          |0            |0          |N   |Y                |\n",
      "|R3SORMPJZO3F2J|3          |2            |2          |N   |Y                |\n",
      "|R2RDOJQ0WBZCF6|5          |0            |0          |N   |Y                |\n",
      "|R2B8VBEPB4YEZ7|5          |0            |0          |N   |Y                |\n",
      "|R1CB783I7B0U52|1          |0            |1          |N   |Y                |\n",
      "|R2D90RQQ3V8LH |5          |0            |0          |N   |Y                |\n",
      "|R1Y4ZOUGFMJ327|5          |0            |0          |N   |Y                |\n",
      "|R2BUV9QJI2A00X|5          |0            |1          |N   |Y                |\n",
      "|RSUHRJFJIRB3Z |4          |0            |0          |N   |Y                |\n",
      "|R1T96CG98BBA15|3          |2            |4          |N   |Y                |\n",
      "|R2ATXF4QQ30YW |5          |0            |0          |N   |Y                |\n",
      "|R1YS3DS218NNMD|5          |4            |4          |N   |N                |\n",
      "|R2SDXLTLF92O0H|5          |0            |0          |N   |Y                |\n",
      "|R4R337CCDWLNG |3          |0            |1          |Y   |N                |\n",
      "|R32Z6UA4S5Q630|1          |0            |0          |N   |Y                |\n",
      "+--------------+-----------+-------------+-----------+----+-----------------+\n",
      "only showing top 20 rows\n",
      "\n"
     ]
    }
   ],
   "source": [
    "# Create the vine_table. DataFrame\n",
    "vine_df = df.select([\"review_id\",\"star_rating\",\"helpful_votes\",\"total_votes\",\"vine\",\"verified_purchase\"])\n",
    "vine_df.show(truncate=False)"
   ]
  },
  {
   "cell_type": "markdown",
   "metadata": {
    "id": "jITZhLkmY--J"
   },
   "source": [
    "### Connect to the AWS RDS instance and write each DataFrame to its table. "
   ]
  },
  {
   "cell_type": "markdown",
   "metadata": {
    "id": "IrLqT_lS7zw8"
   },
   "source": []
  },
  {
   "cell_type": "code",
   "execution_count": 17,
   "metadata": {
    "id": "7jiUvs1aY--L"
   },
   "outputs": [],
   "source": [
    "# Configure settings for RDS\n",
    "mode = \"append\"\n",
    "jdbc_url=\"jdbc:postgresql://database-2.c9olawi0alk8.us-east-2.rds.amazonaws.com:5432/postgres\"\n",
    "config = {\"user\":\"postgres\", \n",
    "          \"password\": \"<hide>\", \n",
    "          \"driver\":\"org.postgresql.Driver\"}"
   ]
  },
  {
   "cell_type": "code",
   "execution_count": 18,
   "metadata": {
    "id": "T2zgZ-aKY--Q"
   },
   "outputs": [],
   "source": [
    "# Write review_id_df to table in RDS\n",
    "review_id_df.write.jdbc(url=jdbc_url, table='review_id_table', mode=mode, properties=config)"
   ]
  },
  {
   "cell_type": "code",
   "execution_count": 19,
   "metadata": {
    "id": "1m3yzn-LY--U"
   },
   "outputs": [],
   "source": [
    "# Write products_df to table in RDS\n",
    "# about 3 min\n",
    "products_df.write.jdbc(url=jdbc_url, table='products_table', mode=mode, properties=config)"
   ]
  },
  {
   "cell_type": "code",
   "execution_count": 20,
   "metadata": {
    "id": "KbXri15fY--Z"
   },
   "outputs": [],
   "source": [
    "# Write customers_df to table in RDS\n",
    "# 5 min 14 s\n",
    "customers_df.write.jdbc(url=jdbc_url, table='customers_table', mode=mode, properties=config)"
   ]
  },
  {
   "cell_type": "code",
   "execution_count": 21,
   "metadata": {
    "id": "XdQknSHLY--e"
   },
   "outputs": [],
   "source": [
    "# Write vine_df to table in RDS\n",
    "# 11 minutes\n",
    "vine_df.write.jdbc(url=jdbc_url, table='vine_table', mode=mode, properties=config)"
   ]
  }
 ],
 "metadata": {
  "colab": {
   "name": "Amazon_Reviews_ETL.ipynb",
   "provenance": []
  },
  "kernelspec": {
   "display_name": "Python 3",
   "language": "python",
   "name": "python3"
  },
  "language_info": {
   "codemirror_mode": {
    "name": "ipython",
    "version": 3
   },
   "file_extension": ".py",
   "mimetype": "text/x-python",
   "name": "python",
   "nbconvert_exporter": "python",
   "pygments_lexer": "ipython3",
   "version": "3.8.8"
  },
  "nteract": {
   "version": "0.12.3"
  }
 },
 "nbformat": 4,
 "nbformat_minor": 1
}
