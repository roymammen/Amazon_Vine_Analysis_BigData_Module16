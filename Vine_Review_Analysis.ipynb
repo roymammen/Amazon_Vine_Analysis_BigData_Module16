{
  "nbformat": 4,
  "nbformat_minor": 0,
  "metadata": {
    "colab": {
      "name": "Vine_Review_Analysis.ipynb",
      "provenance": []
    },
    "kernelspec": {
      "name": "python3",
      "display_name": "Python 3"
    },
    "language_info": {
      "name": "python"
    }
  },
  "cells": [
    {
      "cell_type": "code",
      "execution_count": 1,
      "metadata": {
        "colab": {
          "base_uri": "https://localhost:8080/"
        },
        "id": "p_3oKa7YI2Pz",
        "outputId": "dc07a18d-fff8-4089-ede9-2c07b331e86a"
      },
      "outputs": [
        {
          "output_type": "stream",
          "name": "stdout",
          "text": [
            "\r0% [Working]\r            \rGet:1 http://security.ubuntu.com/ubuntu bionic-security InRelease [88.7 kB]\n",
            "Ign:2 https://developer.download.nvidia.com/compute/cuda/repos/ubuntu1804/x86_64  InRelease\n",
            "Get:3 http://ppa.launchpad.net/c2d4u.team/c2d4u4.0+/ubuntu bionic InRelease [15.9 kB]\n",
            "Get:4 https://cloud.r-project.org/bin/linux/ubuntu bionic-cran40/ InRelease [3,626 B]\n",
            "Ign:5 https://developer.download.nvidia.com/compute/machine-learning/repos/ubuntu1804/x86_64  InRelease\n",
            "Get:6 https://developer.download.nvidia.com/compute/cuda/repos/ubuntu1804/x86_64  Release [696 B]\n",
            "Hit:7 https://developer.download.nvidia.com/compute/machine-learning/repos/ubuntu1804/x86_64  Release\n",
            "Get:8 https://developer.download.nvidia.com/compute/cuda/repos/ubuntu1804/x86_64  Release.gpg [836 B]\n",
            "Hit:9 http://archive.ubuntu.com/ubuntu bionic InRelease\n",
            "Get:10 http://archive.ubuntu.com/ubuntu bionic-updates InRelease [88.7 kB]\n",
            "Hit:11 http://ppa.launchpad.net/cran/libgit2/ubuntu bionic InRelease\n",
            "Get:12 http://ppa.launchpad.net/deadsnakes/ppa/ubuntu bionic InRelease [15.9 kB]\n",
            "Get:13 http://archive.ubuntu.com/ubuntu bionic-backports InRelease [74.6 kB]\n",
            "Get:14 http://security.ubuntu.com/ubuntu bionic-security/main amd64 Packages [2,461 kB]\n",
            "Hit:15 http://ppa.launchpad.net/graphics-drivers/ppa/ubuntu bionic InRelease\n",
            "Get:16 http://security.ubuntu.com/ubuntu bionic-security/universe amd64 Packages [1,452 kB]\n",
            "Get:17 http://security.ubuntu.com/ubuntu bionic-security/restricted amd64 Packages [691 kB]\n",
            "Get:18 https://cloud.r-project.org/bin/linux/ubuntu bionic-cran40/ Packages [73.9 kB]\n",
            "Get:20 https://developer.download.nvidia.com/compute/cuda/repos/ubuntu1804/x86_64  Packages [833 kB]\n",
            "Get:21 http://ppa.launchpad.net/c2d4u.team/c2d4u4.0+/ubuntu bionic/main Sources [1,821 kB]\n",
            "Get:22 http://archive.ubuntu.com/ubuntu bionic-updates/universe amd64 Packages [2,230 kB]\n",
            "Get:23 http://ppa.launchpad.net/c2d4u.team/c2d4u4.0+/ubuntu bionic/main amd64 Packages [934 kB]\n",
            "Get:24 http://archive.ubuntu.com/ubuntu bionic-updates/main amd64 Packages [2,898 kB]\n",
            "Get:25 http://archive.ubuntu.com/ubuntu bionic-backports/main amd64 Packages [11.6 kB]\n",
            "Get:26 http://archive.ubuntu.com/ubuntu bionic-backports/universe amd64 Packages [12.6 kB]\n",
            "Get:27 http://ppa.launchpad.net/deadsnakes/ppa/ubuntu bionic/main amd64 Packages [45.3 kB]\n",
            "Fetched 13.8 MB in 7s (1,953 kB/s)\n",
            "Reading package lists... Done\n"
          ]
        }
      ],
      "source": [
        "import os\n",
        "# Find the latest version of spark 3.0 from http://www.apache.org/dist/spark/ and enter as the spark version\n",
        "# For example:\n",
        "# spark_version = 'spark-3.0.3'\n",
        "spark_version = 'spark-3.0.3'\n",
        "os.environ['SPARK_VERSION']=spark_version\n",
        "\n",
        "# Install Spark and Java\n",
        "!apt-get update\n",
        "!apt-get install openjdk-11-jdk-headless -qq > /dev/null\n",
        "!wget -q http://www.apache.org/dist/spark/$SPARK_VERSION/$SPARK_VERSION-bin-hadoop2.7.tgz\n",
        "!tar xf $SPARK_VERSION-bin-hadoop2.7.tgz\n",
        "!pip install -q findspark\n",
        "\n",
        "# Set Environment Variables\n",
        "import os\n",
        "os.environ[\"JAVA_HOME\"] = \"/usr/lib/jvm/java-11-openjdk-amd64\"\n",
        "os.environ[\"SPARK_HOME\"] = f\"/content/{spark_version}-bin-hadoop2.7\"\n",
        "\n",
        "# Start a SparkSession\n",
        "import findspark\n",
        "findspark.init()"
      ]
    },
    {
      "cell_type": "code",
      "source": [
        "from pyspark.sql import SparkSession\n",
        "spark = SparkSession.builder.appName(\"M16-Amazon-Challenge\").config(\"spark.driver.extraClassPath\",\"/content/postgresql-42.2.16.jar\").getOrCreate()"
      ],
      "metadata": {
        "id": "-Z93Lic2Ja7b"
      },
      "execution_count": 3,
      "outputs": []
    },
    {
      "cell_type": "code",
      "source": [
        "from pyspark import SparkFiles\n",
        "url = \"https://s3.amazonaws.com/amazon-reviews-pds/tsv/index.txt\"\n",
        "spark.sparkContext.addFile(url)\n",
        "df = spark.read.option(\"encoding\", \"UTF-8\").csv(SparkFiles.get(\"index.txt\"), sep=\"\\t\", header=True, inferSchema=True)\n",
        "df.show(truncate=False)"
      ],
      "metadata": {
        "colab": {
          "base_uri": "https://localhost:8080/"
        },
        "id": "lcNgjTgtJD34",
        "outputId": "503de55f-108d-4045-a2c9-8f9888ec239f"
      },
      "execution_count": 4,
      "outputs": [
        {
          "output_type": "stream",
          "name": "stdout",
          "text": [
            "+---------------------------------------------------------------------------------------------------------+\n",
            "|SAMPLE CONTENT:                                                                                          |\n",
            "+---------------------------------------------------------------------------------------------------------+\n",
            "|https://s3.amazonaws.com/amazon-reviews-pds/tsv/sample_us.tsv                                            |\n",
            "|https://s3.amazonaws.com/amazon-reviews-pds/tsv/sample_fr.tsv                                            |\n",
            "|DATA COLUMNS:                                                                                            |\n",
            "|marketplace       - 2 letter country code of the marketplace where the review was written.               |\n",
            "|customer_id       - Random identifier that can be used to aggregate reviews written by a single author.  |\n",
            "|review_id         - The unique ID of the review.                                                         |\n",
            "|product_id        - The unique Product ID the review pertains to. In the multilingual dataset the reviews|\n",
            "|                    for the same product in different countries can be grouped by the same product_id.   |\n",
            "|product_parent    - Random identifier that can be used to aggregate reviews for the same product.        |\n",
            "|product_title     - Title of the product.                                                                |\n",
            "|product_category  - Broad product category that can be used to group reviews                             |\n",
            "|                    (also used to group the dataset into coherent parts).                                |\n",
            "|star_rating       - The 1-5 star rating of the review.                                                   |\n",
            "|helpful_votes     - Number of helpful votes.                                                             |\n",
            "|total_votes       - Number of total votes the review received.                                           |\n",
            "|vine              - Review was written as part of the Vine program.                                      |\n",
            "|verified_purchase - The review is on a verified purchase.                                                |\n",
            "|review_headline   - The title of the review.                                                             |\n",
            "|review_body       - The review text.                                                                     |\n",
            "|review_date       - The date the review was written.                                                     |\n",
            "+---------------------------------------------------------------------------------------------------------+\n",
            "only showing top 20 rows\n",
            "\n"
          ]
        }
      ]
    },
    {
      "cell_type": "code",
      "source": [
        "from pyspark import SparkFiles\n",
        "url = \"https://s3.amazonaws.com/amazon-reviews-pds/tsv/sample_fr.tsv\"\n",
        "spark.sparkContext.addFile(url)\n",
        "df = spark.read.option(\"encoding\", \"UTF-8\").csv(SparkFiles.get(\"sample_us.tsv\"), sep=\"\\t\", header=True, inferSchema=True)\n",
        "df.show(truncate=False)"
      ],
      "metadata": {
        "colab": {
          "base_uri": "https://localhost:8080/"
        },
        "id": "1k7IczQfJEq_",
        "outputId": "77791900-d62b-47df-acdc-effe4961c100"
      },
      "execution_count": 17,
      "outputs": [
        {
          "output_type": "stream",
          "name": "stdout",
          "text": [
            "+-----------+-----------+--------------+----------+--------------+----------------------------------------------------------------------------------------+----------------+-----------+-------------+-----------+----+-----------------+-----------------------------------------------------------------------------------------------+-----------------------------------------------------------------------------------------------------------------------------------------------------------------------------------------------------------------------------------------------------------------------------------------------------------------------------------------------------------------------------------------------------------------------------------------------------------------------------------------------------------------------------------------------------------------------------------------------------------------------------------------------------------------+-----------+\n",
            "|marketplace|customer_id|review_id     |product_id|product_parent|product_title                                                                           |product_category|star_rating|helpful_votes|total_votes|vine|verified_purchase|review_headline                                                                                |review_body                                                                                                                                                                                                                                                                                                                                                                                                                                                                                                                                                                                                                                                      |review_date|\n",
            "+-----------+-----------+--------------+----------+--------------+----------------------------------------------------------------------------------------+----------------+-----------+-------------+-----------+----+-----------------+-----------------------------------------------------------------------------------------------+-----------------------------------------------------------------------------------------------------------------------------------------------------------------------------------------------------------------------------------------------------------------------------------------------------------------------------------------------------------------------------------------------------------------------------------------------------------------------------------------------------------------------------------------------------------------------------------------------------------------------------------------------------------------+-----------+\n",
            "|US         |18778586   |RDIJS7QYB6XNR |B00EDBY7X8|122952789     |Monopoly Junior Board Game                                                              |Toys            |5          |0            |0          |N   |Y                |Five Stars                                                                                     |Excellent!!!                                                                                                                                                                                                                                                                                                                                                                                                                                                                                                                                                                                                                                                     |2015-08-31 |\n",
            "|US         |24769659   |R36ED1U38IELG8|B00D7JFOPC|952062646     |56 Pieces of Wooden Train Track Compatible with All Major Train Brands                  |Toys            |5          |0            |0          |N   |Y                |Good quality track at excellent price                                                          |Great quality wooden track (better than some others we have tried). Perfect match to the various vintages of Thomas track that we already have. There is enough track here to have fun and get creative incorporating your key pieces with track splits, loops and bends.                                                                                                                                                                                                                                                                                                                                                                                        |2015-08-31 |\n",
            "|US         |44331596   |R1UE3RPRGCOLD |B002LHA74O|818126353     |Super Jumbo Playing Cards by S&S Worldwide                                              |Toys            |2          |1            |1          |N   |Y                |Two Stars                                                                                      |Cards are not as big as pictured.                                                                                                                                                                                                                                                                                                                                                                                                                                                                                                                                                                                                                                |2015-08-31 |\n",
            "|US         |23310293   |R298788GS6I901|B00ARPLCGY|261944918     |Barbie Doll and Fashions Barbie Gift Set                                                |Toys            |5          |0            |0          |N   |Y                |my daughter loved it and i liked the price and it came ...                                     |my daughter loved it and i liked the price and it came to me rather than shopping with a ton of people around me. Amazon is the Best way to shop!                                                                                                                                                                                                                                                                                                                                                                                                                                                                                                                |2015-08-31 |\n",
            "|US         |38745832   |RNX4EXOBBPN5  |B00UZOPOFW|717410439     |Emazing Lights eLite Flow Glow Sticks - Spinning Light LED Toy                          |Toys            |1          |1            |1          |N   |Y                |DONT BUY THESE!                                                                                |Do not buy these! They break very fast I spun then for 15 minutes and the end flew off don't waste your money. They are made from cheap plastic and have cracks in them. Buy the poi balls they work a lot better if you only have limited funds.                                                                                                                                                                                                                                                                                                                                                                                                                |2015-08-31 |\n",
            "|US         |13394189   |R3BPETL222LMIM|B009B7F6CA|873028700     |Melissa & Doug Water Wow Coloring Book - Vehicles                                       |Toys            |5          |0            |0          |N   |Y                |Five Stars                                                                                     |Great item. Pictures pop thru and add detail as &#34;painted.&#34;  Pictures dry and it can be repainted.                                                                                                                                                                                                                                                                                                                                                                                                                                                                                                                                                        |2015-08-31 |\n",
            "|US         |2749569    |R3SORMPJZO3F2J|B0101EHRSM|723424342     |Big Bang Cosmic Pegasus (Pegasis) Metal 4D High Performance Generic Battling Top BB-105 |Toys            |3          |2            |2          |N   |Y                |Three Stars                                                                                    |To keep together, had to use crazy  glue.                                                                                                                                                                                                                                                                                                                                                                                                                                                                                                                                                                                                                        |2015-08-31 |\n",
            "|US         |41137196   |R2RDOJQ0WBZCF6|B00407S11Y|383363775     |Fun Express Insect Finger Puppets 12ct Toy                                              |Toys            |5          |0            |0          |N   |Y                |Five Stars                                                                                     |I was pleased with the product.                                                                                                                                                                                                                                                                                                                                                                                                                                                                                                                                                                                                                                  |2015-08-31 |\n",
            "|US         |433677     |R2B8VBEPB4YEZ7|B00FGPU7U2|780517568     |Fisher-Price Octonauts Shellington's On-The-Go Pod Toy                                  |Toys            |5          |0            |0          |N   |Y                |Five Stars                                                                                     |Children like it                                                                                                                                                                                                                                                                                                                                                                                                                                                                                                                                                                                                                                                 |2015-08-31 |\n",
            "|US         |1297934    |R1CB783I7B0U52|B0013OY0S0|269360126     |Claw Climber Goliath/ Disney's Gargoyles                                                |Toys            |1          |0            |1          |N   |Y                |Shame on the seller !!!                                                                        |Showed up not how it's shown . Was someone's old toy. with paint on it.                                                                                                                                                                                                                                                                                                                                                                                                                                                                                                                                                                                          |2015-08-31 |\n",
            "|US         |52006292   |R2D90RQQ3V8LH |B00519PJTW|493486387     |100 Foot Multicolor Pennant Banner                                                      |Toys            |5          |0            |0          |N   |Y                |Five Stars                                                                                     |Really liked these. They were a little larger than I thought, but still fun.                                                                                                                                                                                                                                                                                                                                                                                                                                                                                                                                                                                     |2015-08-31 |\n",
            "|US         |32071052   |R1Y4ZOUGFMJ327|B001TCY2DO|459122467     |Pig Jumbo Foil Balloon                                                                  |Toys            |5          |0            |0          |N   |Y                |Nice huge balloon                                                                              |Nice huge balloon! Had my local grocery store fill it up for a very small fee, it was totally worth it!                                                                                                                                                                                                                                                                                                                                                                                                                                                                                                                                                          |2015-08-31 |\n",
            "|US         |7360347    |R2BUV9QJI2A00X|B00DOQCWF8|226984155     |Minecraft Animal Toy (6-Pack)                                                           |Toys            |5          |0            |1          |N   |Y                |Five Stars                                                                                     |Great deal                                                                                                                                                                                                                                                                                                                                                                                                                                                                                                                                                                                                                                                       |2015-08-31 |\n",
            "|US         |11613707   |RSUHRJFJIRB3Z |B004C04I4I|375659886     |Disney Baby: Eeyore Large Plush                                                         |Toys            |4          |0            |0          |N   |Y                |Four Stars                                                                                     |As Advertised                                                                                                                                                                                                                                                                                                                                                                                                                                                                                                                                                                                                                                                    |2015-08-31 |\n",
            "|US         |13545982   |R1T96CG98BBA15|B00NWGEKBY|933734136     |Team Losi 8IGHT-E RTR AVC Electric 4WD Buggy Vehicle (1/8 Scale)                        |Toys            |3          |2            |4          |N   |Y                |... servo so expect to spend 150 more on a good servo immediately be the stock one breaks right|Comes w a 15$ servo so expect to spend 150 more on a good servo immediately be the stock one breaks right away                                                                                                                                                                                                                                                                                                                                                                                                                                                                                                                                                   |2015-08-31 |\n",
            "|US         |43880421   |R2ATXF4QQ30YW |B00000JS5S|341842639     |Hot Wheels 48- Car storage Case With Easy Grip Carrying Case                            |Toys            |5          |0            |0          |N   |Y                |Five Stars                                                                                     |awesome ! Thanks!                                                                                                                                                                                                                                                                                                                                                                                                                                                                                                                                                                                                                                                |2015-08-31 |\n",
            "|US         |1662075    |R1YS3DS218NNMD|B00XPWXYDK|210135375     |ZuZo 2.4GHz 4 CH 6 Axis Gyro RC Quadcopter Drone with Camera & LED Lights, 38 x 38 x 7cm|Toys            |5          |4            |4          |N   |N                |The closest relevance I have to items like these is while in the army I was trained ...        |I got this item for me and my son to play around with. The closest relevance I have to items like these is while in the army I was trained in the camera rc bots. This thing is awesome we tested the range and got somewhere close to 50 yards without an issue. Getting the controls is a bit tricky at first but after about twenty minutes you get the feel for it. The drone comes just about fly ready you just have to sync the controller. I am definitely a fan of the drones now. Only concern I have is maybe a little more silent but other than that great buy.<br /><br />*Disclaimer I received this product at a discount for my unbiased review.|2015-08-31 |\n",
            "|US         |18461411   |R2SDXLTLF92O0H|B00VPXX92W|705054378     |Teenage Mutant Ninja Turtles T-Machines Tiger Claw in Safari Truck Diecast Vehicle      |Toys            |5          |0            |0          |N   |Y                |Five Stars                                                                                     |It was a birthday present for my grandson and he LOVES IT!!                                                                                                                                                                                                                                                                                                                                                                                                                                                                                                                                                                                                      |2015-08-31 |\n",
            "|US         |27225859   |R4R337CCDWLNG |B00YRA3H4U|223420727     |Franklin Sports MLB Fold Away Batting Tee                                               |Toys            |3          |0            |1          |Y   |N                |Got wrong product in the shipment                                                              |Got a wrong product from Amazon Vine and unable to provide a good review. We received a pair of cute girls gloves and a baseball ball instead, while we were expecting a boys batting tee. The gloves are cute, however made for at least 6+ yrs or above...more likely 8-9 yrs old girls.<br /><br />Can't provide a fair review as we were not able to use the product.                                                                                                                                                                                                                                                                                        |2015-08-31 |\n",
            "|US         |20494593   |R32Z6UA4S5Q630|B009T8BSQY|787701676     |Alien Frontiers: Factions                                                               |Toys            |1          |0            |0          |N   |Y                |Overpriced.                                                                                    |You need expansion packs 3-5 if you want access to the player aids for the Factions expansion. The base game of Alien Frontiers just plays so much smoother than adding Factions with the expansion packs. All this will do is pigeonhole you into a certain path to victory.                                                                                                                                                                                                                                                                                                                                                                                    |2015-08-31 |\n",
            "+-----------+-----------+--------------+----------+--------------+----------------------------------------------------------------------------------------+----------------+-----------+-------------+-----------+----+-----------------+-----------------------------------------------------------------------------------------------+-----------------------------------------------------------------------------------------------------------------------------------------------------------------------------------------------------------------------------------------------------------------------------------------------------------------------------------------------------------------------------------------------------------------------------------------------------------------------------------------------------------------------------------------------------------------------------------------------------------------------------------------------------------------+-----------+\n",
            "only showing top 20 rows\n",
            "\n"
          ]
        }
      ]
    },
    {
      "cell_type": "code",
      "source": [
        "from pyspark.sql.functions import col, avg\n",
        "# Create the vine_table. DataFrame\n",
        "vine_df = df.select([\"review_id\",\"star_rating\",\"helpful_votes\",\"total_votes\",\"vine\",\"verified_purchase\"])\n",
        "vine_df.show()"
      ],
      "metadata": {
        "colab": {
          "base_uri": "https://localhost:8080/"
        },
        "id": "h41coWOsJIlz",
        "outputId": "8a904ed6-7f0b-421c-b3eb-f766dee6240c"
      },
      "execution_count": 18,
      "outputs": [
        {
          "output_type": "stream",
          "name": "stdout",
          "text": [
            "+--------------+-----------+-------------+-----------+----+-----------------+\n",
            "|     review_id|star_rating|helpful_votes|total_votes|vine|verified_purchase|\n",
            "+--------------+-----------+-------------+-----------+----+-----------------+\n",
            "| RDIJS7QYB6XNR|          5|            0|          0|   N|                Y|\n",
            "|R36ED1U38IELG8|          5|            0|          0|   N|                Y|\n",
            "| R1UE3RPRGCOLD|          2|            1|          1|   N|                Y|\n",
            "|R298788GS6I901|          5|            0|          0|   N|                Y|\n",
            "|  RNX4EXOBBPN5|          1|            1|          1|   N|                Y|\n",
            "|R3BPETL222LMIM|          5|            0|          0|   N|                Y|\n",
            "|R3SORMPJZO3F2J|          3|            2|          2|   N|                Y|\n",
            "|R2RDOJQ0WBZCF6|          5|            0|          0|   N|                Y|\n",
            "|R2B8VBEPB4YEZ7|          5|            0|          0|   N|                Y|\n",
            "|R1CB783I7B0U52|          1|            0|          1|   N|                Y|\n",
            "| R2D90RQQ3V8LH|          5|            0|          0|   N|                Y|\n",
            "|R1Y4ZOUGFMJ327|          5|            0|          0|   N|                Y|\n",
            "|R2BUV9QJI2A00X|          5|            0|          1|   N|                Y|\n",
            "| RSUHRJFJIRB3Z|          4|            0|          0|   N|                Y|\n",
            "|R1T96CG98BBA15|          3|            2|          4|   N|                Y|\n",
            "| R2ATXF4QQ30YW|          5|            0|          0|   N|                Y|\n",
            "|R1YS3DS218NNMD|          5|            4|          4|   N|                N|\n",
            "|R2SDXLTLF92O0H|          5|            0|          0|   N|                Y|\n",
            "| R4R337CCDWLNG|          3|            0|          1|   Y|                N|\n",
            "|R32Z6UA4S5Q630|          1|            0|          0|   N|                Y|\n",
            "+--------------+-----------+-------------+-----------+----+-----------------+\n",
            "only showing top 20 rows\n",
            "\n"
          ]
        }
      ]
    },
    {
      "cell_type": "code",
      "source": [
        "# 1. Filter the data and create a new DataFrame or table to retrieve all the rows where the total_votes count is equal to or greater than 20 \n",
        "gt20_df = vine_df.filter(vine_df['total_votes'] >= 20)\n",
        "gt20_df.show(truncate=False)"
      ],
      "metadata": {
        "colab": {
          "base_uri": "https://localhost:8080/"
        },
        "id": "Na2eNoNoJOj6",
        "outputId": "4bca011d-313b-4334-8489-9243fa38f7e6"
      },
      "execution_count": 19,
      "outputs": [
        {
          "output_type": "stream",
          "name": "stdout",
          "text": [
            "+---------+-----------+-------------+-----------+----+-----------------+\n",
            "|review_id|star_rating|helpful_votes|total_votes|vine|verified_purchase|\n",
            "+---------+-----------+-------------+-----------+----+-----------------+\n",
            "+---------+-----------+-------------+-----------+----+-----------------+\n",
            "\n"
          ]
        }
      ]
    },
    {
      "cell_type": "code",
      "source": [
        "# 1.1. Filter the data and create a new DataFrame or table to retrieve all the rows where the total_votes count is equal to or greater than 1\n",
        "gt1_df = vine_df.filter(vine_df['total_votes'] >= 1)\n",
        "gt1_df.show(truncate=False)"
      ],
      "metadata": {
        "colab": {
          "base_uri": "https://localhost:8080/"
        },
        "id": "tnwJv5yCJvNb",
        "outputId": "2bd8a8c0-4776-4b18-bfd5-57991da55b10"
      },
      "execution_count": 20,
      "outputs": [
        {
          "output_type": "stream",
          "name": "stdout",
          "text": [
            "+--------------+-----------+-------------+-----------+----+-----------------+\n",
            "|review_id     |star_rating|helpful_votes|total_votes|vine|verified_purchase|\n",
            "+--------------+-----------+-------------+-----------+----+-----------------+\n",
            "|R1UE3RPRGCOLD |2          |1            |1          |N   |Y                |\n",
            "|RNX4EXOBBPN5  |1          |1            |1          |N   |Y                |\n",
            "|R3SORMPJZO3F2J|3          |2            |2          |N   |Y                |\n",
            "|R1CB783I7B0U52|1          |0            |1          |N   |Y                |\n",
            "|R2BUV9QJI2A00X|5          |0            |1          |N   |Y                |\n",
            "|R1T96CG98BBA15|3          |2            |4          |N   |Y                |\n",
            "|R1YS3DS218NNMD|5          |4            |4          |N   |N                |\n",
            "|R4R337CCDWLNG |3          |0            |1          |Y   |N                |\n",
            "|R1H1HOVB44808I|5          |1            |1          |N   |N                |\n",
            "|R4UVQIRZ5T1FM |4          |1            |2          |N   |Y                |\n",
            "|R226K8IJLRPTIR|5          |0            |1          |N   |Y                |\n",
            "|R3031Q42BKAN7J|4          |1            |1          |N   |N                |\n",
            "|R44NP0QG6E98W |3          |1            |1          |N   |Y                |\n",
            "|R3N01IESYEYW01|5          |0            |1          |N   |Y                |\n",
            "|RKLAK7EPEG5S6 |5          |1            |2          |N   |Y                |\n",
            "|R1HOJ5GOA2JWM0|2          |1            |1          |N   |Y                |\n",
            "|R1JS8G26X4RM2G|5          |0            |1          |N   |Y                |\n",
            "|R1YIX4SO32U0GT|5          |0            |1          |N   |Y                |\n",
            "|RIDVQ4P3WJR42 |5          |1            |1          |N   |Y                |\n",
            "|R1WQ3ME3JAG2O1|1          |0            |6          |N   |Y                |\n",
            "+--------------+-----------+-------------+-----------+----+-----------------+\n",
            "\n"
          ]
        }
      ]
    },
    {
      "cell_type": "code",
      "source": [
        "# 2. Filter the new DataFrame or table created in Step 1 and create a new DataFrame or table to retrieve all the rows \n",
        "# where the number of helpful_votes divided by total_votes is equal to or greater than 50%.\n",
        "pc50_df = gt1_df.filter(gt1_df[\"helpful_votes\"]/gt1_df[\"total_votes\"] >= 0.5)\n",
        "pc50_df.show()"
      ],
      "metadata": {
        "colab": {
          "base_uri": "https://localhost:8080/"
        },
        "outputId": "19ddb874-4342-4d6a-9b6b-8006ee1a5638",
        "id": "tC5zG6D2Jvea"
      },
      "execution_count": 22,
      "outputs": [
        {
          "output_type": "stream",
          "name": "stdout",
          "text": [
            "+--------------+-----------+-------------+-----------+----+-----------------+\n",
            "|     review_id|star_rating|helpful_votes|total_votes|vine|verified_purchase|\n",
            "+--------------+-----------+-------------+-----------+----+-----------------+\n",
            "| R1UE3RPRGCOLD|          2|            1|          1|   N|                Y|\n",
            "|  RNX4EXOBBPN5|          1|            1|          1|   N|                Y|\n",
            "|R3SORMPJZO3F2J|          3|            2|          2|   N|                Y|\n",
            "|R1T96CG98BBA15|          3|            2|          4|   N|                Y|\n",
            "|R1YS3DS218NNMD|          5|            4|          4|   N|                N|\n",
            "|R1H1HOVB44808I|          5|            1|          1|   N|                N|\n",
            "| R4UVQIRZ5T1FM|          4|            1|          2|   N|                Y|\n",
            "|R3031Q42BKAN7J|          4|            1|          1|   N|                N|\n",
            "| R44NP0QG6E98W|          3|            1|          1|   N|                Y|\n",
            "| RKLAK7EPEG5S6|          5|            1|          2|   N|                Y|\n",
            "|R1HOJ5GOA2JWM0|          2|            1|          1|   N|                Y|\n",
            "| RIDVQ4P3WJR42|          5|            1|          1|   N|                Y|\n",
            "+--------------+-----------+-------------+-----------+----+-----------------+\n",
            "\n"
          ]
        }
      ]
    },
    {
      "cell_type": "code",
      "source": [
        "# 3. Filter the DataFrame or table created in Step 2, and create a new DataFrame or table that retrieves all the rows where a review was written as part of the Vine program (paid), vine == 'Y'.\n",
        "vine_review_yes_df = pc50_df.filter(pc50_df['vine']== 'Y')\n",
        "vine_review_yes_df.show()"
      ],
      "metadata": {
        "colab": {
          "base_uri": "https://localhost:8080/"
        },
        "id": "vnj_W0gzKMtB",
        "outputId": "515230db-4e19-4cd0-fa93-e1174559705d"
      },
      "execution_count": 26,
      "outputs": [
        {
          "output_type": "stream",
          "name": "stdout",
          "text": [
            "+---------+-----------+-------------+-----------+----+-----------------+\n",
            "|review_id|star_rating|helpful_votes|total_votes|vine|verified_purchase|\n",
            "+---------+-----------+-------------+-----------+----+-----------------+\n",
            "+---------+-----------+-------------+-----------+----+-----------------+\n",
            "\n"
          ]
        }
      ]
    },
    {
      "cell_type": "code",
      "source": [
        "#   4. Repeat Step 3, but this time retrieve all the rows where the review was not part of the Vine program (unpaid), vine == 'N'.\n",
        "vine_review_no_df = pc50_df.filter(pc50_df['vine']== 'N')\n",
        "vine_review_no_df.show()"
      ],
      "metadata": {
        "colab": {
          "base_uri": "https://localhost:8080/"
        },
        "id": "XYEHELJwKPRO",
        "outputId": "5eb00add-55c5-47f2-dbd4-01325434e38c"
      },
      "execution_count": 27,
      "outputs": [
        {
          "output_type": "stream",
          "name": "stdout",
          "text": [
            "+--------------+-----------+-------------+-----------+----+-----------------+\n",
            "|     review_id|star_rating|helpful_votes|total_votes|vine|verified_purchase|\n",
            "+--------------+-----------+-------------+-----------+----+-----------------+\n",
            "| R1UE3RPRGCOLD|          2|            1|          1|   N|                Y|\n",
            "|  RNX4EXOBBPN5|          1|            1|          1|   N|                Y|\n",
            "|R3SORMPJZO3F2J|          3|            2|          2|   N|                Y|\n",
            "|R1T96CG98BBA15|          3|            2|          4|   N|                Y|\n",
            "|R1YS3DS218NNMD|          5|            4|          4|   N|                N|\n",
            "|R1H1HOVB44808I|          5|            1|          1|   N|                N|\n",
            "| R4UVQIRZ5T1FM|          4|            1|          2|   N|                Y|\n",
            "|R3031Q42BKAN7J|          4|            1|          1|   N|                N|\n",
            "| R44NP0QG6E98W|          3|            1|          1|   N|                Y|\n",
            "| RKLAK7EPEG5S6|          5|            1|          2|   N|                Y|\n",
            "|R1HOJ5GOA2JWM0|          2|            1|          1|   N|                Y|\n",
            "| RIDVQ4P3WJR42|          5|            1|          1|   N|                Y|\n",
            "+--------------+-----------+-------------+-----------+----+-----------------+\n",
            "\n"
          ]
        }
      ]
    },
    {
      "cell_type": "code",
      "source": [
        "# 5. Determine the total number of reviews, the number of 5-star reviews, and the percentage of 5-star reviews for the two types of review (paid vs unpaid).\n",
        "vine_number = vine_review_yes_df.count() + 1\n",
        "vine_five_star_number = vine_review_yes_df.filter(vine_review_yes_df['star_rating']== 5).count()\n",
        "percentage_five_star_vine = float(vine_five_star_number) / float(vine_number)\n",
        "print(vine_number)\n",
        "print(vine_five_star_number)\n",
        "print(percentage_five_star_vine)"
      ],
      "metadata": {
        "colab": {
          "base_uri": "https://localhost:8080/"
        },
        "id": "O0qehCZxKSfo",
        "outputId": "d220c907-b356-40d6-9377-b3ebc44fb0af"
      },
      "execution_count": 29,
      "outputs": [
        {
          "output_type": "stream",
          "name": "stdout",
          "text": [
            "1\n",
            "0\n",
            "0.0\n"
          ]
        }
      ]
    },
    {
      "cell_type": "code",
      "source": [
        "no_vine_number = vine_review_no_df.count()\n",
        "no_vine_five_star_number = vine_review_no_df.filter(vine_review_no_df['star_rating']== 5).count()\n",
        "pct_no_five_star_vine = float(no_vine_five_star_number) / float(no_vine_number)\n",
        "print(no_vine_number)\n",
        "print(no_vine_five_star_number)\n",
        "print(pct_no_five_star_vine)"
      ],
      "metadata": {
        "colab": {
          "base_uri": "https://localhost:8080/"
        },
        "id": "CXFHmmFdM-8w",
        "outputId": "17b905b5-d942-439b-bbb0-a75df8121221"
      },
      "execution_count": 32,
      "outputs": [
        {
          "output_type": "stream",
          "name": "stdout",
          "text": [
            "12\n",
            "4\n",
            "0.3333333333333333\n"
          ]
        }
      ]
    }
  ]
}